{
 "cells": [
  {
   "cell_type": "markdown",
   "metadata": {},
   "source": [
    "# Cómputo de Alto Desempeño ~ Semana 2\n",
    "Ricardo Montes Estrada\n",
    "[rmontes.mca16@lania.edu.mx](mailto:rmontes.mca16@lania.edu.mx)"
   ]
  },
  {
   "cell_type": "markdown",
   "metadata": {},
   "source": [
    "## Requisitos\n",
    "---\n",
    "Checar el ecosistema (versiones):\n",
    "* *numpy*\n",
    "* *pandas*\n",
    "* *matplotlib*\n",
    "* *ipyparallel*"
   ]
  },
  {
   "cell_type": "code",
   "execution_count": 1,
   "metadata": {
    "collapsed": false
   },
   "outputs": [
    {
     "name": "stdout",
     "output_type": "stream",
     "text": [
      "1.11.3\n",
      "0.19.2\n",
      "2.0.0\n",
      "6.0.2\n"
     ]
    }
   ],
   "source": [
    "import numpy as np\n",
    "print np.__version__\n",
    "\n",
    "import pandas as pd\n",
    "print pd.__version__\n",
    "\n",
    "import matplotlib as plt\n",
    "print plt.__version__\n",
    "\n",
    "import ipyparallel as ipp\n",
    "print ipp.__version__"
   ]
  }
 ],
 "metadata": {
  "kernelspec": {
   "display_name": "Python 2",
   "language": "python",
   "name": "python2"
  },
  "language_info": {
   "codemirror_mode": {
    "name": "ipython",
    "version": 2
   },
   "file_extension": ".py",
   "mimetype": "text/x-python",
   "name": "python",
   "nbconvert_exporter": "python",
   "pygments_lexer": "ipython2",
   "version": "2.7.13"
  }
 },
 "nbformat": 4,
 "nbformat_minor": 2
}
